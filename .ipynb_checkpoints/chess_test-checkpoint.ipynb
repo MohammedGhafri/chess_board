{
 "cells": [
  {
   "cell_type": "code",
   "execution_count": 20,
   "metadata": {},
   "outputs": [],
   "source": [
    "import numpy as np\n",
    "import matplotlib.pyplot as plt\n"
   ]
  },
  {
   "cell_type": "code",
   "execution_count": 2,
   "metadata": {},
   "outputs": [
    {
     "name": "stdout",
     "output_type": "stream",
     "text": [
      "staff\n"
     ]
    }
   ],
   "source": [
    "print(\"staff\")"
   ]
  },
  {
   "cell_type": "code",
   "execution_count": 74,
   "metadata": {},
   "outputs": [],
   "source": [
    "class ChessBoard:\n",
    "    white= [1,1,1]\n",
    "    blue = [0,0,1]\n",
    "    red  = [1,0,0]\n",
    "    ax=0\n",
    "    ay=0\n",
    "    bx=0\n",
    "    by=0\n",
    "    def __init__(self):\n",
    "        self.grid=np.zeros([8,8,3])\n",
    "#         print(self.grid)\n",
    "        for i in range(8):\n",
    "            for j in range(8):\n",
    "                if not(i+j)%2:\n",
    "                    self.grid[i,j]=ChessBoard.white\n",
    "        \n",
    "    def add_red(self,ax,ay):\n",
    "        self.grid[ax,ay]=ChessBoard.red\n",
    "        self.ax=ax\n",
    "        self.ay=ay\n",
    "        \n",
    "    def add_blue(self,bx,by):\n",
    "        self.grid[bx,by]=ChessBoard.blue\n",
    "        self.bx=bx\n",
    "        self.by=by\n",
    "        \n",
    "\n",
    "        \n",
    "    def render(self):\n",
    "        plt.imshow(self.grid)\n",
    "    \n",
    "    def is_under_attack(self):\n",
    "        ax=self.ax\n",
    "        ay=self.ay\n",
    "        bx=self.bx\n",
    "        by=self.by\n",
    "        if not(ax - bx):\n",
    "            return \"Under Attack\"\n",
    "        elif not(ay-by):\n",
    "            return \"Under Attack\"\n",
    "        elif not((ax+ay)-(bx+by)):\n",
    "            return \"Under Attack\"\n",
    "        else:\n",
    "            return \"Queen is Not under attack\"\n",
    "        \n",
    "        \n",
    "        "
   ]
  },
  {
   "cell_type": "code",
   "execution_count": null,
   "metadata": {},
   "outputs": [],
   "source": []
  },
  {
   "cell_type": "code",
   "execution_count": 80,
   "metadata": {},
   "outputs": [
    {
     "name": "stdout",
     "output_type": "stream",
     "text": [
      "All tests passed ♥♣♦♠\n"
     ]
    }
   ],
   "source": [
    "\n",
    "chess1=ChessBoard()\n",
    "chess1.add_red(1,2)\n",
    "chess1.add_blue(4,2)\n",
    "chess2=ChessBoard()\n",
    "chess2.add_red(2,2)\n",
    "chess2.add_blue(6,0)\n",
    "assert chess1.is_under_attack()==\"Under Attack\"\n",
    "assert chess2.is_under_attack()==\"Queen is Not under attack\"\n",
    "print(\"All tests passed ♥♣♦♠\")\n",
    "\n",
    "    \n"
   ]
  },
  {
   "cell_type": "code",
   "execution_count": null,
   "metadata": {},
   "outputs": [],
   "source": []
  },
  {
   "cell_type": "code",
   "execution_count": null,
   "metadata": {},
   "outputs": [],
   "source": []
  }
 ],
 "metadata": {
  "kernelspec": {
   "display_name": "Python 3",
   "language": "python",
   "name": "python3"
  },
  "language_info": {
   "codemirror_mode": {
    "name": "ipython",
    "version": 3
   },
   "file_extension": ".py",
   "mimetype": "text/x-python",
   "name": "python",
   "nbconvert_exporter": "python",
   "pygments_lexer": "ipython3",
   "version": "3.8.5"
  }
 },
 "nbformat": 4,
 "nbformat_minor": 4
}
